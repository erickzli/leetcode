{
 "cells": [
  {
   "cell_type": "code",
   "execution_count": 58,
   "metadata": {},
   "outputs": [],
   "source": [
    "import string\n",
    "def calculate(s: str) -> int:\n",
    "    li = []\n",
    "    idx = -1\n",
    "    isNum = False\n",
    "    for i in s:\n",
    "        if i == ' ':\n",
    "            isNum = False\n",
    "            continue\n",
    "        if not isNum:\n",
    "            if i.isdigit():\n",
    "                isNum = True\n",
    "            li.append(i)\n",
    "            idx += 1\n",
    "        else:\n",
    "            if i.isdigit():\n",
    "                li[idx] += i\n",
    "            else:\n",
    "                li.append(i)\n",
    "                idx += 1\n",
    "                isNum = False\n",
    "    \n",
    "    newli = []\n",
    "    length = len(li)\n",
    "    pos_block = True\n",
    "    block_sign = [True]\n",
    "    if li[0] == '(':\n",
    "        block_sign.append(True)\n",
    "        \n",
    "    for i in range(length):\n",
    "        if li[i] == '(':\n",
    "#             print('(', block_sign)\n",
    "            block_sign.append(pos_block)\n",
    "        elif li[i] == ')':\n",
    "            block_sign.pop()\n",
    "            pos_block = block_sign[-1]\n",
    "        elif li[i] == '-':\n",
    "            if block_sign[-1]:\n",
    "                newli.append('-')\n",
    "            else:\n",
    "                newli.append('+')\n",
    "            if li[i+1] == '(':\n",
    "                pos_block = not pos_block\n",
    "        elif li[i] == '+':\n",
    "            if block_sign[-1]:\n",
    "                newli.append('+')\n",
    "            else:\n",
    "                newli.append('-')\n",
    "        else:\n",
    "            newli.append(li[i])\n",
    "    \n",
    "#     print(newli)\n",
    "    result = 0\n",
    "    plus = True\n",
    "    for i in newli:\n",
    "        if i.isdigit():\n",
    "            if plus:\n",
    "                result += int(i)\n",
    "            else:\n",
    "                result -= int(i)\n",
    "        else:\n",
    "            if i == '+':\n",
    "                plus = True\n",
    "            else:\n",
    "                plus = False\n",
    "        \n",
    "        \n",
    "    return result  "
   ]
  },
  {
   "cell_type": "code",
   "execution_count": 59,
   "metadata": {},
   "outputs": [
    {
     "name": "stdout",
     "output_type": "stream",
     "text": [
      "( [True, True]\n",
      "( [True, True, True]\n",
      "( [True, True, True, False]\n",
      "( [True, True, True, False]\n",
      "( [True, True, True, False, True]\n",
      "( [True, True, True, False, True, True]\n",
      "( [True, True, True, False, True, True, False]\n",
      "( [True, True, True, False, True, True, False, True]\n",
      "( [True, True, True, False, True]\n",
      "( [True, True, True, False]\n",
      "['3', '-', '5', '+', '8', '+', '2', '+', '9', '-', '0', '+', '8', '-', '2', '-', '4', '+', '4']\n",
      "23\n"
     ]
    }
   ],
   "source": [
    "print(calculate(\"(3-(5-(8)-(2+(9-(0-(8-(2))))-(4))-(4)))\"))"
   ]
  },
  {
   "cell_type": "code",
   "execution_count": null,
   "metadata": {},
   "outputs": [],
   "source": []
  }
 ],
 "metadata": {
  "kernelspec": {
   "display_name": "Python 3",
   "language": "python",
   "name": "python3"
  },
  "language_info": {
   "codemirror_mode": {
    "name": "ipython",
    "version": 3
   },
   "file_extension": ".py",
   "mimetype": "text/x-python",
   "name": "python",
   "nbconvert_exporter": "python",
   "pygments_lexer": "ipython3",
   "version": "3.6.9"
  }
 },
 "nbformat": 4,
 "nbformat_minor": 2
}
